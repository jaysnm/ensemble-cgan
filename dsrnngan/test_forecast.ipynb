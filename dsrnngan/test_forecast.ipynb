{
 "cells": [
  {
   "cell_type": "code",
   "execution_count": 1,
   "id": "f7b05453-3c6f-4f0e-9698-6806634dccf7",
   "metadata": {
    "execution": {
     "iopub.execute_input": "2024-03-12T23:19:21.727427Z",
     "iopub.status.busy": "2024-03-12T23:19:21.727137Z",
     "iopub.status.idle": "2024-03-12T23:19:24.265955Z",
     "shell.execute_reply": "2024-03-12T23:19:24.265428Z",
     "shell.execute_reply.started": "2024-03-12T23:19:21.727411Z"
    },
    "tags": []
   },
   "outputs": [
    {
     "name": "stderr",
     "output_type": "stream",
     "text": [
      "2024-03-12 23:19:22.143432: E external/local_xla/xla/stream_executor/cuda/cuda_dnn.cc:9261] Unable to register cuDNN factory: Attempting to register factory for plugin cuDNN when one has already been registered\n",
      "2024-03-12 23:19:22.143494: E external/local_xla/xla/stream_executor/cuda/cuda_fft.cc:607] Unable to register cuFFT factory: Attempting to register factory for plugin cuFFT when one has already been registered\n",
      "2024-03-12 23:19:22.144646: E external/local_xla/xla/stream_executor/cuda/cuda_blas.cc:1515] Unable to register cuBLAS factory: Attempting to register factory for plugin cuBLAS when one has already been registered\n",
      "2024-03-12 23:19:22.151554: I tensorflow/core/platform/cpu_feature_guard.cc:182] This TensorFlow binary is optimized to use available CPU instructions in performance-critical operations.\n",
      "To enable the following instructions: AVX2 FMA, in other operations, rebuild TensorFlow with the appropriate compiler flags.\n",
      "2024-03-12 23:19:23.040409: W tensorflow/compiler/tf2tensorrt/utils/py_utils.cc:38] TF-TRT Warning: Could not find TensorRT\n"
     ]
    },
    {
     "name": "stdout",
     "output_type": "stream",
     "text": [
      "Loading forecast normalisations\n",
      "In load_fcst_norm\n",
      "fcstnorm_path = /home/c/cooperf/data/cGAN/ICPAC/6h_IMERG_v6_Andrew/constants/FCSTNorm2018.pkl\n"
     ]
    }
   ],
   "source": [
    "# To test the forecast.py script\n",
    "\n",
    "# Big warning:\n",
    "# This is not a general-purpose forecast script.\n",
    "# This is for forecasting on the pre-defined 'ICPAC region' (e.g., the latitudes\n",
    "# and longitudes are hard-coded), and assumes the input forecast data starts at\n",
    "# time 0, with time steps of data.HOURS.\n",
    "# A more robust version of this script would parse the latitudes, longitudes, and\n",
    "# forecast time info from the input file.\n",
    "# The forecast data fields must match those defined in data.all_fcst_fields\n",
    "\n",
    "import os\n",
    "import pathlib\n",
    "import yaml\n",
    "\n",
    "import netCDF4 as nc\n",
    "import numpy as np\n",
    "from tensorflow.keras.utils import Progbar\n",
    "\n",
    "from data import HOURS, all_fcst_fields, accumulated_fields, nonnegative_fields, fcst_norm, logprec, denormalise, load_hires_constants\n",
    "import read_config\n",
    "from noise import NoiseGenerator\n",
    "from setupmodel import setup_model\n",
    "\n",
    "from datetime import datetime, timedelta"
   ]
  },
  {
   "cell_type": "code",
   "execution_count": 2,
   "id": "44bdb4d0-a785-4730-9092-3cfa38b82079",
   "metadata": {
    "execution": {
     "iopub.execute_input": "2024-03-12T23:19:24.267022Z",
     "iopub.status.busy": "2024-03-12T23:19:24.266631Z",
     "iopub.status.idle": "2024-03-12T23:19:24.410018Z",
     "shell.execute_reply": "2024-03-12T23:19:24.409465Z",
     "shell.execute_reply.started": "2024-03-12T23:19:24.267003Z"
    }
   },
   "outputs": [],
   "source": [
    "# Define the latitude and longitude arrays for later\n",
    "latitude = np.arange(-13.65, 24.7, 0.1)\n",
    "longitude = np.arange(19.15, 54.3, 0.1)\n",
    "\n",
    "# Some setup\n",
    "read_config.set_gpu_mode()  # set up whether to use GPU, and mem alloc mode\n",
    "data_paths = read_config.get_data_paths()  # need the constants directory\n",
    "downscaling_steps = read_config.read_downscaling_factor()[\"steps\"]\n",
    "assert fcst_norm is not None"
   ]
  },
  {
   "cell_type": "code",
   "execution_count": 3,
   "id": "870711e9-eed3-4db7-9824-7b9c599dfdd9",
   "metadata": {
    "execution": {
     "iopub.execute_input": "2024-03-12T23:19:24.410998Z",
     "iopub.status.busy": "2024-03-12T23:19:24.410690Z",
     "iopub.status.idle": "2024-03-12T23:19:24.414459Z",
     "shell.execute_reply": "2024-03-12T23:19:24.414095Z",
     "shell.execute_reply.started": "2024-03-12T23:19:24.410982Z"
    }
   },
   "outputs": [],
   "source": [
    "# Open and parse forecast.yaml\n",
    "#fcstyaml_path = os.path.join(os.path.dirname(os.path.abspath(__file__)), \"forecast.yaml\")\n",
    "fcstyaml_path = \"forecast.yaml\"\n",
    "with open(fcstyaml_path, \"r\") as f:\n",
    "    try:\n",
    "        fcst_params = yaml.safe_load(f)\n",
    "    except yaml.YAMLError as exc:\n",
    "        print(exc)"
   ]
  },
  {
   "cell_type": "code",
   "execution_count": 4,
   "id": "fda4e72b-3f3a-4e98-81f1-c466970fb9e8",
   "metadata": {
    "execution": {
     "iopub.execute_input": "2024-03-12T23:19:24.415085Z",
     "iopub.status.busy": "2024-03-12T23:19:24.414957Z",
     "iopub.status.idle": "2024-03-12T23:19:27.511943Z",
     "shell.execute_reply": "2024-03-12T23:19:27.511373Z",
     "shell.execute_reply.started": "2024-03-12T23:19:24.415072Z"
    }
   },
   "outputs": [
    {
     "name": "stderr",
     "output_type": "stream",
     "text": [
      "2024-03-12 23:19:26.177594: I tensorflow/core/common_runtime/gpu/gpu_device.cc:1929] Created device /job:localhost/replica:0/task:0/device:GPU:0 with 38191 MB memory:  -> device: 0, name: NVIDIA A100-PCIE-40GB, pci bus id: 0000:21:00.0, compute capability: 8.0\n"
     ]
    }
   ],
   "source": [
    "model_folder = fcst_params[\"MODEL\"][\"folder\"]\n",
    "checkpoint = fcst_params[\"MODEL\"][\"checkpoint\"]\n",
    "input_folder = fcst_params[\"INPUT\"][\"folder\"]\n",
    "input_file = fcst_params[\"INPUT\"][\"file\"]\n",
    "start_hour = fcst_params[\"INPUT\"][\"start_hour\"]\n",
    "end_hour = fcst_params[\"INPUT\"][\"end_hour\"]\n",
    "output_folder = fcst_params[\"OUTPUT\"][\"folder\"]\n",
    "ensemble_members = fcst_params[\"OUTPUT\"][\"ensemble_members\"]\n",
    "\n",
    "assert start_hour % HOURS == 0, f\"start_hour must be divisible by {HOURS}\"\n",
    "assert end_hour % HOURS == 0, f\"end_hour must be divisible by {HOURS}\"\n",
    "\n",
    "# Open and parse GAN config file\n",
    "config_path = os.path.join(model_folder, \"setup_params.yaml\")\n",
    "with open(config_path, \"r\") as f:\n",
    "    try:\n",
    "        setup_params = yaml.safe_load(f)\n",
    "    except yaml.YAMLError as exc:\n",
    "        print(exc)\n",
    "\n",
    "mode = setup_params[\"GENERAL\"][\"mode\"]\n",
    "arch = setup_params[\"MODEL\"][\"architecture\"]\n",
    "padding = setup_params[\"MODEL\"][\"padding\"]\n",
    "filters_gen = setup_params[\"GENERATOR\"][\"filters_gen\"]\n",
    "noise_channels = setup_params[\"GENERATOR\"][\"noise_channels\"]\n",
    "latent_variables = setup_params[\"GENERATOR\"][\"latent_variables\"]\n",
    "filters_disc = setup_params[\"DISCRIMINATOR\"][\"filters_disc\"]  # TODO: avoid setting up discriminator in forecast mode?\n",
    "constant_fields = 2\n",
    "\n",
    "assert mode == \"GAN\", \"standalone forecast script only for GAN, not VAE-GAN or deterministic model\"\n",
    "\n",
    "# Set up pre-trained GAN\n",
    "weights_fn = os.path.join(model_folder, \"models\", f\"gen_weights-{checkpoint:07}.h5\")\n",
    "input_channels = 4*len(all_fcst_fields)\n",
    "\n",
    "model = setup_model(mode=mode,\n",
    "                    arch=arch,\n",
    "                    downscaling_steps=downscaling_steps,\n",
    "                    input_channels=input_channels,\n",
    "                    constant_fields=constant_fields,\n",
    "                    filters_gen=filters_gen,\n",
    "                    filters_disc=filters_disc,\n",
    "                    noise_channels=noise_channels,\n",
    "                    latent_variables=latent_variables,\n",
    "                    padding=padding)\n",
    "gen = model.gen\n",
    "gen.load_weights(weights_fn)\n",
    "\n",
    "network_const_input = load_hires_constants(batch_size=1)  # 1 x lats x lons x 2"
   ]
  },
  {
   "cell_type": "code",
   "execution_count": 5,
   "id": "fa944362-8d02-4ffd-b7c3-8fe5c4909c6d",
   "metadata": {
    "execution": {
     "iopub.execute_input": "2024-03-12T23:19:27.513079Z",
     "iopub.status.busy": "2024-03-12T23:19:27.512711Z",
     "iopub.status.idle": "2024-03-12T23:19:27.518295Z",
     "shell.execute_reply": "2024-03-12T23:19:27.517905Z",
     "shell.execute_reply.started": "2024-03-12T23:19:27.513062Z"
    }
   },
   "outputs": [],
   "source": [
    "def create_output_file(nc_out_path):\n",
    "    netcdf_dict = {}\n",
    "    rootgrp = nc.Dataset(nc_out_path, \"w\", format=\"NETCDF4\")\n",
    "    netcdf_dict[\"rootgrp\"] = rootgrp\n",
    "    rootgrp.description = \"GAN 6-hour rainfall ensemble members in the ICPAC region.\"\n",
    "\n",
    "    # Create output file dimensions\n",
    "    rootgrp.createDimension(\"latitude\", len(latitude))\n",
    "    rootgrp.createDimension(\"longitude\", len(longitude))\n",
    "    rootgrp.createDimension(\"member\", ensemble_members)\n",
    "    rootgrp.createDimension(\"time\", None)\n",
    "    rootgrp.createDimension(\"valid_time\", None)\n",
    "\n",
    "    # Create variables\n",
    "    latitude_data = rootgrp.createVariable(\"latitude\",\n",
    "                                           \"f4\",\n",
    "                                           (\"latitude\",))\n",
    "    latitude_data.units = \"degrees_north\"\n",
    "    latitude_data[:] = latitude     # Write the latitude data\n",
    "\n",
    "    longitude_data = rootgrp.createVariable(\"longitude\",\n",
    "                                            \"f4\",\n",
    "                                            (\"longitude\",))\n",
    "    longitude_data.units = \"degrees_east\"\n",
    "    longitude_data[:] = longitude   # Write the longitude data\n",
    "\n",
    "    ensemble_data = rootgrp.createVariable(\"member\",\n",
    "                                           \"i4\",\n",
    "                                           (\"member\",))\n",
    "    ensemble_data.units = \"ensemble member\"\n",
    "    ensemble_data[:] = range(1, ensemble_members+1)\n",
    "\n",
    "    netcdf_dict[\"time_data\"] = rootgrp.createVariable(\"time\",\n",
    "                                                      \"f4\",\n",
    "                                                      (\"time\",))\n",
    "    netcdf_dict[\"time_data\"].units = \"hours since 1900-01-01 00:00:00.0\"\n",
    "\n",
    "    netcdf_dict[\"valid_time_data\"] = rootgrp.createVariable(\"fcst_valid_time\",\n",
    "                                                            \"f4\",\n",
    "                                                            (\"time\", \"valid_time\"))\n",
    "    netcdf_dict[\"valid_time_data\"].units = \"hours since 1900-01-01 00:00:00.0\"\n",
    "\n",
    "    netcdf_dict[\"precipitation\"] = rootgrp.createVariable(\"precipitation\",\n",
    "                                                          \"f4\",\n",
    "                                                          (\"time\", \"member\", \"valid_time\",\n",
    "                                                           \"latitude\", \"longitude\"),\n",
    "                                                          compression=\"zlib\",\n",
    "                                                          chunksizes=(1, 1, 1, len(latitude), len(longitude)))\n",
    "    netcdf_dict[\"precipitation\"].units = \"mm h**-1\"\n",
    "    netcdf_dict[\"precipitation\"].long_name = \"Precipitation\"\n",
    "\n",
    "    return netcdf_dict"
   ]
  },
  {
   "cell_type": "code",
   "execution_count": 6,
   "id": "f8eb5b27-3b85-49e9-b259-b784d85cdc25",
   "metadata": {
    "execution": {
     "iopub.execute_input": "2024-03-12T23:19:27.519993Z",
     "iopub.status.busy": "2024-03-12T23:19:27.519648Z",
     "iopub.status.idle": "2024-03-12T23:19:27.536375Z",
     "shell.execute_reply": "2024-03-12T23:19:27.535905Z",
     "shell.execute_reply.started": "2024-03-12T23:19:27.519977Z"
    }
   },
   "outputs": [],
   "source": [
    "# Open input netCDF file to get the times\n",
    "nc_in_path = os.path.join(input_folder, input_file)\n",
    "nc_in = nc.Dataset(nc_in_path, mode=\"r\")\n",
    "start_times = [nc_in[\"time\"][0]]\n",
    "valid_times = [nc_in[\"valid_time\"][0,:]]\n",
    "d = datetime(1900,1,1) + timedelta(hours=int(start_times[0]))\n",
    "print(f\"{d.year}-{d.month:02}-{d.day:02}\")"
   ]
  },
  {
   "cell_type": "code",
   "execution_count": 14,
   "id": "2c0c7b11-d887-472e-beef-f7a4aabcc007",
   "metadata": {
    "execution": {
     "iopub.execute_input": "2024-03-12T23:19:27.565139Z",
     "iopub.status.busy": "2024-03-12T23:19:27.564897Z",
     "iopub.status.idle": "2024-03-12T23:20:00.454568Z",
     "shell.execute_reply": "2024-03-12T23:20:00.453943Z",
     "shell.execute_reply.started": "2024-03-12T23:19:27.565126Z"
    }
   },
   "outputs": [
    {
     "name": "stderr",
     "output_type": "stream",
     "text": [
      "2024-03-12 23:19:29.456808: I external/local_tsl/tsl/platform/default/subprocess.cc:304] Start cannot spawn child process: No such file or directory\n",
      "2024-03-12 23:19:29.890147: I external/local_xla/xla/stream_executor/cuda/cuda_dnn.cc:454] Loaded cuDNN version 8904\n",
      "2024-03-12 23:19:30.641673: I external/local_tsl/tsl/platform/default/subprocess.cc:304] Start cannot spawn child process: No such file or directory\n"
     ]
    },
    {
     "name": "stdout",
     "output_type": "stream",
     "text": [
      "50/50 [==============================] - 10s 134ms/step\n",
      "50/50 [==============================] - 7s 140ms/step\n",
      "50/50 [==============================] - 7s 141ms/step\n",
      "50/50 [==============================] - 7s 137ms/step\n"
     ]
    }
   ],
   "source": [
    "# Create output netCDF file\n",
    "pathlib.Path(output_folder).mkdir(parents=True, exist_ok=True)\n",
    "nc_out_path = os.path.join(output_folder, f\"GAN_{d.year}{d.month:02}{d.day:02}.nc\")\n",
    "\n",
    "netcdf_dict = create_output_file(nc_out_path)\n",
    "netcdf_dict[\"time_data\"][0] = start_times[0]\n",
    "\n",
    "# loop over time chunks. output forecasts may not start from hour 0, so\n",
    "# generate output and input valid time indices using enumerate(...)\n",
    "for out_time_idx, in_time_idx in enumerate(range(start_hour//HOURS, end_hour//HOURS)):\n",
    "    # copy across valid_time from input file\n",
    "    netcdf_dict[\"valid_time_data\"][0, out_time_idx] = valid_times[0][in_time_idx]\n",
    "    field_arrays = []\n",
    "\n",
    "    # the contents of the next loop are v. similar to load_fcst from data.py,\n",
    "    # but not quite the same, since that has different assumptions on how the\n",
    "    # forecast data is stored.  TODO: unify the data normalisation between these?\n",
    "    for field in all_fcst_fields:\n",
    "        # Original:\n",
    "        # nc_in[field] has shape 1 x 50 x 29 x 384 x 352\n",
    "        # corresponding to n_forecasts x n_ensemble_members x n_valid_times x n_lats x n_lons\n",
    "        # Ensemble mean:\n",
    "        # nc_in[field] has shape len(nc_in[\"time\"]) x 29 x 384 x 352\n",
    "        \n",
    "        # Open input netCDF file\n",
    "        #input_file = f\"{field}.nc\"\n",
    "        input_file = 'IFS_20180606_00Z.nc'\n",
    "        nc_in_path = os.path.join(input_folder, input_file)\n",
    "        nc_in = nc.Dataset(nc_in_path, mode=\"r\")\n",
    "        \n",
    "        # grab start and end of 6-hour block in one operation\n",
    "        temp_mean = nc_in[f\"{field}_ensemble_mean\"][in_time_idx:in_time_idx+2, :, :]  # 2 x lat x lon\n",
    "        temp_start_mean = temp_mean[0, :, :]  # lat x lon, start of timestep\n",
    "        temp_end_mean = temp_mean[1, :, :]  # lat x lon, end of timestep\n",
    "\n",
    "        temp_std = nc_in[f\"{field}_ensemble_standard_deviation\"][in_time_idx:in_time_idx+2, :, :]  # 2 x lat x lon\n",
    "        temp_start_std = temp_std[0, :, :]  # lat x lon, start of timestep\n",
    "        temp_end_std = temp_std[1, :, :]  # lat x lon, end of timestep\n",
    "\n",
    "        nc_in.close()\n",
    "        \n",
    "        # return 4 channels per field\n",
    "        if field in accumulated_fields:\n",
    "            zeros = np.zeros(temp_start_mean.shape)\n",
    "            data = np.stack([temp_start_mean,\n",
    "                             temp_start_std,\n",
    "                             zeros,\n",
    "                             zeros],\n",
    "                             axis=-1)  # lat x lon x 4\n",
    "        else:\n",
    "            data = np.stack([temp_start_mean,\n",
    "                             temp_start_std,\n",
    "                             temp_end_mean,\n",
    "                             temp_end_std],\n",
    "                             axis=-1)  # lat x lon x 4\n",
    "        \n",
    "        # perform normalisation on forecast data\n",
    "        if field in nonnegative_fields:\n",
    "            data = np.maximum(data, 0.0)  # eliminate any data weirdness/regridding issues\n",
    "\n",
    "        if field in [\"tp\", \"cp\"]:\n",
    "            # precip is measured in metres, so multiply to get mm\n",
    "            data *= 1000\n",
    "            data /= HOURS  # convert to mm/hr\n",
    "        elif field in accumulated_fields:\n",
    "            # for all other accumulated fields [just ssr for us]\n",
    "            data /= (HOURS*3600)  # convert from a 6-hr difference to a per-second rate\n",
    "\n",
    "        if field in [\"tp\", \"cp\"]:\n",
    "            data = logprec(data, True)\n",
    "        else:\n",
    "            # apply transformation to make fields O(1), based on historical\n",
    "            # forecast data from one of the training years\n",
    "            if field in [\"mcc\"]:\n",
    "                # already 0-1\n",
    "                pass\n",
    "            elif field in [\"sp\", \"t2m\"]:\n",
    "                # these are bounded well away from zero, so subtract mean from ens mean (but NOT from ens sd!)\n",
    "                data[:, :, 0] -= fcst_norm[field][\"mean\"]\n",
    "                data[:, :, 2] -= fcst_norm[field][\"mean\"]\n",
    "                data /= fcst_norm[field][\"std\"]\n",
    "            elif field in nonnegative_fields:\n",
    "                data /= fcst_norm[field][\"max\"]\n",
    "            else:\n",
    "                # winds\n",
    "                data /= max(-fcst_norm[field][\"min\"], fcst_norm[field][\"max\"])\n",
    "\n",
    "        field_arrays.append(data)\n",
    "\n",
    "    network_fcst_input = np.concatenate(field_arrays, axis=-1)  # lat x lon x 4*len(all_fcst_fields)\n",
    "    network_fcst_input = np.expand_dims(network_fcst_input, axis=0)  # 1 x lat x lon x 4*len(...)\n",
    "\n",
    "    noise_shape = network_fcst_input.shape[1:-1] + (noise_channels,)\n",
    "    noise_gen = NoiseGenerator(noise_shape, batch_size=1)\n",
    "    progbar = Progbar(ensemble_members)\n",
    "    for ii in range(ensemble_members):\n",
    "        gan_inputs = [network_fcst_input, network_const_input, noise_gen()]\n",
    "        gan_prediction = gen.predict(gan_inputs, verbose=False)  # 1 x lat x lon x 1\n",
    "        netcdf_dict[\"precipitation\"][0, ii, out_time_idx, :, :] = denormalise(gan_prediction[0, :, :, 0])\n",
    "        progbar.add(1)\n",
    "\n",
    "netcdf_dict[\"rootgrp\"].close()"
   ]
  },
  {
   "cell_type": "code",
   "execution_count": null,
   "id": "52edb883-abb0-429b-afd2-82af065aba49",
   "metadata": {},
   "outputs": [],
   "source": []
  }
 ],
 "metadata": {
  "kernelspec": {
   "display_name": "Python 3 (ipykernel)",
   "language": "python",
   "name": "python3"
  },
  "language_info": {
   "codemirror_mode": {
    "name": "ipython",
    "version": 3
   },
   "file_extension": ".py",
   "mimetype": "text/x-python",
   "name": "python",
   "nbconvert_exporter": "python",
   "pygments_lexer": "ipython3",
   "version": "3.11.7"
  }
 },
 "nbformat": 4,
 "nbformat_minor": 5
}
